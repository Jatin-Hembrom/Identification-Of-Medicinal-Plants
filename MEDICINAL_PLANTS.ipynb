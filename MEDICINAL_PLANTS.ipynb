{
  "cells": [
    {
      "cell_type": "code",
      "execution_count": null,
      "metadata": {
        "id": "ZI6ayYGMhs3s"
      },
      "outputs": [],
      "source": [
        "#importing libraires\n",
        "#Data preprocessing\n",
        "#Build CNN model: a.  Intialize the CNN\n",
        "                  #b.Convolution\n",
        "                  #c.Pooling(Step B and c  to be repeated for each layer)\n",
        "                  #d. Flattening\n",
        "                  #e. Full connection\n",
        "                  #f. O/p layer of this CNN\n",
        "# Training the CNN\n",
        "# Compile\n",
        "# Evaluate\n",
        "\n",
        "\n",
        "#importing libraires\n",
        "import tensorflow as tf\n",
        "from keras.preprocessing.image import ImageDataGenerator"
      ]
    },
    {
      "cell_type": "code",
      "execution_count": null,
      "metadata": {
        "id": "xIDUTe-8iWXl"
      },
      "outputs": [],
      "source": [
        "# from google.colab import drive\n",
        "# drive.mount('/content/drive')"
      ]
    },
    {
      "cell_type": "code",
      "execution_count": null,
      "metadata": {
        "id": "S44LIDS4Nlx7"
      },
      "outputs": [],
      "source": [
        "class_info = {\n",
        "    0: {\"name\": \"Arive Dantu\", \"description\": \"Also known as Elephant Yam, it is used in traditional medicine for digestive disorders and as an anti-inflammatory.\"},\n",
        "    1: {\"name\": \"Basale\", \"description\": \"Commonly known as Malabar Spinach, it is rich in vitamins and minerals, aiding in digestion and promoting overall health.\"},\n",
        "    2: {\"name\": \"Betel\", \"description\": \"Betel leaves have antiseptic properties and are often chewed with betel nut for their stimulating and medicinal effects.\"},\n",
        "    3: {\"name\": \"Crape Jasmine\", \"description\": \"Used in Ayurveda for its anti-inflammatory properties, it is believed to have benefits for skin conditions and pain relief.\"},\n",
        "    4: {\"name\": \"Curry\", \"description\": \"Curry leaves are rich in antioxidants and are used in traditional medicine for their anti-diabetic and anti-inflammatory properties.\"},\n",
        "    5: {\"name\": \"Drumstick\", \"description\": \"The leaves and pods of the drumstick tree have medicinal properties, being rich in vitamins, minerals, and antioxidants.\"},\n",
        "    6: {\"name\": \"Fenugreek\", \"description\": \"Known for its anti-inflammatory and anti-diabetic properties, fenugreek seeds are used to lower blood sugar levels and improve digestion.\"},\n",
        "    7: {\"name\": \"Guava\", \"description\": \"Guava leaves are used in herbal medicine for their antimicrobial and anti-inflammatory properties, aiding in digestive health.\"},\n",
        "    8: {\"name\": \"Indian Beech\", \"description\": \"Also known as Karanja, its oil is used in traditional medicine for skin conditions, wound healing, and as an insect repellent.\"},\n",
        "    9: {\"name\": \"Indian Mustard\", \"description\": \"Mustard seeds are used for their anti-inflammatory and digestive properties, and the oil is beneficial for skin and hair health.\"},\n",
        "    10: {\"name\": \"Jackfruit\", \"description\": \"Jackfruit seeds are rich in nutrients and antioxidants, used in traditional medicine for digestive disorders and as a natural remedy.\"},\n",
        "    11: {\"name\": \"Jamaica\", \"description\": \"Also known as Hibiscus, it is used for its diuretic properties, promoting heart health, and lowering blood pressure.\"},\n",
        "    12: {\"name\": \"Jamun\", \"description\": \"Jamun fruit and seeds are used in Ayurveda for their anti-diabetic properties and as a natural remedy for digestive issues.\"},\n",
        "    13: {\"name\": \"Jasmine\", \"description\": \"Jasmine flowers are used in aromatherapy and herbal medicine for their calming effects and potential benefits for skin and hair.\"},\n",
        "    14: {\"name\": \"Karanda\", \"description\": \"Also known as Carissa, it is used in traditional medicine for its anti-inflammatory, antiseptic, and digestive properties.\"},\n",
        "    15: {\"name\": \"Lemon\", \"description\": \"Lemon is rich in vitamin C and antioxidants, used for its detoxifying properties, immune support, and as a digestive aid.\"},\n",
        "    16: {\"name\": \"Mango\", \"description\": \"Mango leaves are used in herbal medicine for their anti-inflammatory and antidiabetic properties, promoting overall well-being.\"},\n",
        "    17: {\"name\": \"Mexican Mint\", \"description\": \"Also known as Cuban Oregano, it is used in traditional medicine for its antimicrobial, anti-inflammatory, and digestive benefits.\"},\n",
        "    18: {\"name\": \"Mint\", \"description\": \"Mint leaves are known for their cooling and digestive properties, used to relieve indigestion, nausea, and promote fresh breath.\"},\n",
        "    19: {\"name\": \"Neem\", \"description\": \"Neem leaves and oil have antibacterial, antifungal, and antiviral properties, used for skin conditions, oral health, and immune support.\"},\n",
        "    20: {\"name\": \"Oleander\", \"description\": \"Oleander leaves have toxic properties but are used in traditional medicine for their potential cardiac and cancer-fighting properties (must be used with caution).\"},\n",
        "    21: {\"name\": \"Parijata\", \"description\": \"Also known as Night Jasmine, it is used in Ayurveda for its calming and digestive properties, promoting sleep and well-being.\"},\n",
        "    22: {\"name\": \"Peepal\", \"description\": \"Peepal leaves are used in traditional medicine for their antimicrobial, anti-inflammatory, and digestive benefits.\"},\n",
        "    23: {\"name\": \"Pomegranate\", \"description\": \"Pomegranate fruit and seeds are rich in antioxidants and used for their anti-inflammatory, cardiovascular, and immune-boosting properties.\"},\n",
        "    24: {\"name\": \"Rasna\", \"description\": \"Rasna is used in Ayurveda for its anti-inflammatory, analgesic, and muscle-relaxing properties, often used in joint and muscle pain remedies.\"},\n",
        "    25: {\"name\": \"Rose\", \"description\": \"Rose petals and oil are used in aromatherapy and herbal medicine for their calming, mood-enhancing, and skin-nourishing properties.\"},\n",
        "    26: {\"name\": \"Rose Apple\", \"description\": \"Also known as Jambu, its leaves and fruit are used in traditional medicine for their anti-diabetic and digestive properties.\"},\n",
        "    27: {\"name\": \"Roxburgh Fig\", \"description\": \"Also known as Ficus, its bark and leaves are used in Ayurveda for their anti-inflammatory, digestive, and wound-healing properties.\"},\n",
        "    28: {\"name\": \"Sandalwood\", \"description\": \"Sandalwood oil is used in aromatherapy and traditional medicine for its calming, anti-inflammatory, and skin-soothing effects.\"},\n",
        "    29: {\"name\": \"Tulsi\", \"description\": \"Also known as Holy Basil, it is considered a sacred plant in Ayurveda, used for its antimicrobial, immune-boosting, and stress-relieving properties.\"}\n",
        "}\n"
      ]
    },
    {
      "cell_type": "code",
      "execution_count": null,
      "metadata": {
        "id": "aAMak3XGiQAi"
      },
      "outputs": [],
      "source": [
        "#Data Preprocessing\n",
        "train_datagen = ImageDataGenerator(\n",
        "      rescale = 1./255,\n",
        "      shear_range = 0.2,\n",
        "      zoom_range = 0.2,\n",
        "      horizontal_flip = True)"
      ]
    },
    {
      "cell_type": "code",
      "execution_count": null,
      "metadata": {
        "colab": {
          "base_uri": "https://localhost:8080/"
        },
        "id": "9ZqePEBoiRxG",
        "outputId": "63d8a13d-57bf-4b66-9da7-ebba0c7169e6"
      },
      "outputs": [
        {
          "output_type": "stream",
          "name": "stdout",
          "text": [
            "Found 940 images belonging to 30 classes.\n"
          ]
        }
      ],
      "source": [
        "#preprocessing for training data\n",
        "train_generator = train_datagen.flow_from_directory(\n",
        "        '/content/drive/MyDrive/Plant Images Dataset/TRAIN',\n",
        "        target_size=(64,64),\n",
        "        batch_size=25,\n",
        "        class_mode='sparse')"
      ]
    },
    {
      "cell_type": "code",
      "execution_count": null,
      "metadata": {
        "colab": {
          "base_uri": "https://localhost:8080/"
        },
        "id": "NRxt2a7z946_",
        "outputId": "2bd73a4e-88cf-4f85-95ca-d3c45d7bba2d"
      },
      "outputs": [
        {
          "output_type": "stream",
          "name": "stdout",
          "text": [
            "Found 587 images belonging to 30 classes.\n"
          ]
        }
      ],
      "source": [
        "#preprocessing for testing_data\n",
        "test_datagen = ImageDataGenerator(rescale=1./255)\n",
        "validation_generator = test_datagen.flow_from_directory(\n",
        "            '/content/drive/MyDrive/Plant Images Dataset/TEST',\n",
        "         target_size=(64,64),\n",
        "         batch_size=32,\n",
        "         class_mode='sparse')"
      ]
    },
    {
      "cell_type": "markdown",
      "metadata": {
        "id": "oSyH9OfH94M1"
      },
      "source": []
    },
    {
      "cell_type": "code",
      "execution_count": null,
      "metadata": {
        "id": "f9V3jgzIii0w"
      },
      "outputs": [],
      "source": [
        "#Building the CNN\n",
        "cnn = tf.keras.models.Sequential()\n",
        "\n",
        "#Convolution1\n",
        "cnn.add(tf.keras.layers.Conv2D(filters = 32,kernel_size =3,activation = 'relu',input_shape=[64,64,3]))\n",
        "#pooling1\n",
        "cnn.add(tf.keras.layers.MaxPool2D(pool_size=2,strides=2))\n"
      ]
    },
    {
      "cell_type": "code",
      "execution_count": null,
      "metadata": {
        "id": "lepIdnW3i9iW"
      },
      "outputs": [],
      "source": [
        "#Convoluion2\n",
        "cnn.add(tf.keras.layers.Conv2D(filters=32,kernel_size=3,activation=\"relu\"))\n",
        "#Pooling2\n",
        "cnn.add(tf.keras.layers.MaxPool2D(pool_size=2,strides=2))"
      ]
    },
    {
      "cell_type": "code",
      "execution_count": null,
      "metadata": {
        "id": "LT2eE-Tji_W2"
      },
      "outputs": [],
      "source": [
        "#Flattening\n",
        "\n",
        "cnn.add(tf.keras.layers.Flatten())"
      ]
    },
    {
      "cell_type": "code",
      "execution_count": null,
      "metadata": {
        "id": "Wan_WbFCjBV2"
      },
      "outputs": [],
      "source": [
        "#Full Connection(Dense Layer)\n",
        "cnn.add(tf.keras.layers.Dense(units=128,activation='relu'))"
      ]
    },
    {
      "cell_type": "code",
      "execution_count": null,
      "metadata": {
        "id": "qsfpkEaOjDY6"
      },
      "outputs": [],
      "source": [
        "#Full Connection(Dense Layer)\n",
        "# cnn.add(tf.keras.layers.Dense(units=64,activation='sigmoid'))"
      ]
    },
    {
      "cell_type": "code",
      "execution_count": null,
      "metadata": {
        "id": "RRrDx1LUI03r"
      },
      "outputs": [],
      "source": [
        "  #Output Layer\n",
        "num_classes = 30\n",
        "cnn.add(tf.keras.layers.Dense(units=num_classes,activation='softmax'))"
      ]
    },
    {
      "cell_type": "code",
      "execution_count": null,
      "metadata": {
        "colab": {
          "base_uri": "https://localhost:8080/"
        },
        "id": "vBf2sNhojFSK",
        "outputId": "8f26df7b-2f6a-4c07-df53-a70aafa572c7"
      },
      "outputs": [
        {
          "output_type": "stream",
          "name": "stdout",
          "text": [
            "Model: \"sequential\"\n",
            "_________________________________________________________________\n",
            " Layer (type)                Output Shape              Param #   \n",
            "=================================================================\n",
            " conv2d (Conv2D)             (None, 62, 62, 32)        896       \n",
            "                                                                 \n",
            " max_pooling2d (MaxPooling2  (None, 31, 31, 32)        0         \n",
            " D)                                                              \n",
            "                                                                 \n",
            " conv2d_1 (Conv2D)           (None, 29, 29, 32)        9248      \n",
            "                                                                 \n",
            " max_pooling2d_1 (MaxPoolin  (None, 14, 14, 32)        0         \n",
            " g2D)                                                            \n",
            "                                                                 \n",
            " flatten (Flatten)           (None, 6272)              0         \n",
            "                                                                 \n",
            " dense (Dense)               (None, 128)               802944    \n",
            "                                                                 \n",
            " dense_1 (Dense)             (None, 30)                3870      \n",
            "                                                                 \n",
            "=================================================================\n",
            "Total params: 816958 (3.12 MB)\n",
            "Trainable params: 816958 (3.12 MB)\n",
            "Non-trainable params: 0 (0.00 Byte)\n",
            "_________________________________________________________________\n"
          ]
        }
      ],
      "source": [
        "# #Compiling the model\n",
        "cnn.compile(optimizer='adam',metrics=['accuracy'],loss='sparse_categorical_crossentropy')\n",
        "\n",
        "# Compiling the model with 'sparse_categorical_crossentropy' loss\n",
        "# cnn.compile(optimizer='adam', metrics=['accuracy'], loss='categorical_crossentropy')\n",
        "\n",
        "# Compiling the model with 'kullback_leibler_divergence' loss\n",
        "# cnn.compile(optimizer='adam', metrics=['accuracy'], loss='kullback_leibler_divergence')\n",
        "\n",
        "cnn.summary()\n"
      ]
    },
    {
      "cell_type": "markdown",
      "metadata": {
        "id": "MeqdNb4fpCBn"
      },
      "source": []
    },
    {
      "cell_type": "code",
      "execution_count": null,
      "metadata": {
        "colab": {
          "base_uri": "https://localhost:8080/",
          "height": 388
        },
        "id": "PGEw0fcMjHH5",
        "outputId": "a0d81781-51f2-4e64-ee3d-fce49b8a1ab4"
      },
      "outputs": [
        {
          "output_type": "stream",
          "name": "stdout",
          "text": [
            "Epoch 1/100\n",
            "27/38 [====================>.........] - ETA: 4s - loss: 0.0110 - accuracy: 0.9955"
          ]
        },
        
      ],
      "source": [
        "#Training the model\n",
        "history = cnn.fit(x=train_generator,validation_data = validation_generator, epochs=100, batch_size = 25\n",
        "                  )\n",
        "print(history)"
      ]
    },
    {
      "cell_type": "code",
      "execution_count": null,
      "metadata": {
        "id": "cCra-01mGCiN"
      },
      "outputs": [],
      "source": [
        "# train_loss, train_accuracy = cnn.evaluate(train_generator)\n",
        "# print(f'Train Accuracy: {train_accuracy * 100:.2f}%')\n",
        "# # print(f\"Train Loss: {test_loss:* 100 }\")"
      ]
    },
    {
      "cell_type": "code",
      "execution_count": null,
      "metadata": {
        "id": "iXSARkD3sXuk"
      },
      "outputs": [],
      "source": [
        "# test_loss, test_accuracy = cnn.evaluate(train_generator)\n",
        "# print(f'Test Accuracy: {test_accuracy * 100:.2f}%')"
      ]
    },
    {
      "cell_type": "code",
      "execution_count": null,
      "metadata": {
        "id": "SJEL_4X_jYqq",
        "colab": {
          "base_uri": "https://localhost:8080/"
        },
        "outputId": "4880fb36-7b25-46bc-d4b4-43eaf809b898"
      },
      "outputs": [
        {
          "output_type": "stream",
          "name": "stdout",
          "text": [
            "1/1 [==============================] - 0s 20ms/step\n",
            "The predicted plant is: Jackfruit\n",
            "Description: Jackfruit seeds are rich in nutrients and antioxidants, used in traditional medicine for digestive disorders and as a natural remedy.\n"
          ]
        }
      ],
      "source": [
        "from tensorflow.keras.preprocessing import image\n",
        "import numpy as np\n",
        "\n",
        "\n",
        "img_size = (64,64)\n",
        "\n",
        "\n",
        "\n",
        "\n",
        "\n",
        "# Load a sample image for prediction\n",
        "img_path = \"/content/drive/MyDrive/Plant Images Dataset/TEST/Test Jackfruit/AH-S-027.jpg\"\n",
        "# img_path = input(\"Upload your image\")  # Replace with your image path\n",
        "img = image.load_img(img_path, target_size=img_size)\n",
        "img_array = image.img_to_array(img)\n",
        "img_array = np.expand_dims(img_array, axis=0)\n",
        "img_array /= 255.0  # Normalize the image\n",
        "\n",
        "# Make predictions\n",
        "predictions = cnn.predict(img_array)\n",
        "\n",
        "# Get the predicted class index\n",
        "predicted_class_index = np.argmax(predictions)\n",
        "\n",
        "# Use the class mapping from the generator\n",
        "class_indices_to_names = train_generator.class_indices\n",
        "\n",
        "# Invert the mapping to get plant names from class indices\n",
        "class_names_to_indices = dict((v, k) for k, v in class_indices_to_names.items())\n",
        "\n",
        "predicted_class_info = class_info[predicted_class_index]\n",
        "predicted_class_name = predicted_class_info[\"name\"]\n",
        "predicted_class_description = predicted_class_info[\"description\"]\n",
        "\n",
        "print(f\"The predicted plant is: {predicted_class_name}\")\n",
        "print(f\"Description: {predicted_class_description}\")\n",
        "\n",
        "\n",
        "cnn.save(\"model.h5\")\n"
      ]
    },
    {
      "cell_type": "code",
      "execution_count": null,
      "metadata": {
        "id": "SO8OQFTcsTW7",
        "colab": {
          "base_uri": "https://localhost:8080/",
          "height": 393
        },
        "outputId": "f92beb05-a60a-49bc-a4cc-0bed3fcd6ebf"
      },
      "outputs": [
        {
          "output_type": "display_data",
          "data": {
            "text/plain": [
              "<Figure size 1000x400 with 2 Axes>"
            ],
            "image/png": "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\n"
          },
          "metadata": {}
        }
      ],
      "source": [
        "import matplotlib.pyplot as plt\n",
        "plt.figure(figsize=(10, 4))\n",
        "\n",
        "plt.subplot(1, 2, 1)\n",
        "plt.plot(history.history['accuracy'], label='Training Accuracy')\n",
        "plt.plot(history.history['val_accuracy'], label='Validation Accuracy')\n",
        "plt.xlabel('Epoch')\n",
        "plt.ylabel('Accuracy')\n",
        "plt.legend()\n",
        "\n",
        "# Plot training and validation loss\n",
        "plt.subplot(1, 2, 2)\n",
        "plt.plot(history.history['loss'], label='Training Loss')\n",
        "plt.plot(history.history['val_loss'], label='Validation Loss')\n",
        "plt.xlabel('Epoch')\n",
        "plt.ylabel('Loss')\n",
        "plt.legend()\n",
        "\n",
        "plt.show()"
      ]
    },
    {
      "cell_type": "code",
      "source": [
        "# !pip install streamlit\n",
        "# !pip install pyngrok"
      ],
      "metadata": {
        "id": "8O-HcOp5vob3"
      },
      "execution_count": 48,
      "outputs": []
    },
    {
      "cell_type": "code",
      "source": [
        "# !ngrok authtoken 2ffjtFv0ZQ0qPbI43qz1smhEKfn_5gDNRtux52T7UMidJttao"
      ],
      "metadata": {
        "id": "mtDHF1rgN7Nm"
      },
      "execution_count": 49,
      "outputs": []
    },
    {
      "cell_type": "code",
      "source": [
        "# !curl -o /tmp/ngrok.zip https://bin.equinox.io/c/4VmD63lR/ngrok-stable-linux-amd64.zip\n",
        "# !unzip /tmp/ngrok.zip -d /usr/local/bin"
      ],
      "metadata": {
        "id": "ZziVwnNjOHil"
      },
      "execution_count": 50,
      "outputs": []
    },
    {
      "cell_type": "code",
      "source": [
        "# !ngrok start --all"
      ],
      "metadata": {
        "id": "ccwH7WfVOMqx"
      },
      "execution_count": 51,
      "outputs": []
    },
    {
      "cell_type": "code",
      "execution_count": 52,
      "metadata": {
        "id": "5PkDoeAz6DG4"
      },
      "outputs": [],
      "source": [
        "import streamlit as st\n",
        "from PIL import Image\n",
        "import numpy as np\n",
        "import tensorflow as tf\n",
        "from tensorflow.keras.preprocessing import image\n",
        "from keras.models import load_model\n",
        "from pyngrok import ngrok\n",
        "\n",
        "# Load the trained model\n",
        "model_path = \"/content/model.h5\"  # Replace with the path to your trained model\n",
        "model = load_model(model_path)\n",
        "\n",
        "# Class information dictionary with names and descriptions\n",
        "class_info = {\n",
        "    0: {\"name\": \"Arive Dantu\", \"description\": \"Also known as Elephant Yam, it is used in traditional medicine for digestive disorders and as an anti-inflammatory.\"},\n",
        "    1: {\"name\": \"Basale\", \"description\": \"Commonly known as Malabar Spinach, it is rich in vitamins and minerals, aiding in digestion and promoting overall health.\"},\n",
        "    2: {\"name\": \"Betel\", \"description\": \"Betel leaves have antiseptic properties and are often chewed with betel nut for their stimulating and medicinal effects.\"},\n",
        "    3: {\"name\": \"Crape Jasmine\", \"description\": \"Used in Ayurveda for its anti-inflammatory properties, it is believed to have benefits for skin conditions and pain relief.\"},\n",
        "    4: {\"name\": \"Curry\", \"description\": \"Curry leaves are rich in antioxidants and are used in traditional medicine for their anti-diabetic and anti-inflammatory properties.\"},\n",
        "    5: {\"name\": \"Drumstick\", \"description\": \"The leaves and pods of the drumstick tree have medicinal properties, being rich in vitamins, minerals, and antioxidants.\"},\n",
        "    6: {\"name\": \"Fenugreek\", \"description\": \"Known for its anti-inflammatory and anti-diabetic properties, fenugreek seeds are used to lower blood sugar levels and improve digestion.\"},\n",
        "    7: {\"name\": \"Guava\", \"description\": \"Guava leaves are used in herbal medicine for their antimicrobial and anti-inflammatory properties, aiding in digestive health.\"},\n",
        "    8: {\"name\": \"Indian Beech\", \"description\": \"Also known as Karanja, its oil is used in traditional medicine for skin conditions, wound healing, and as an insect repellent.\"},\n",
        "    9: {\"name\": \"Indian Mustard\", \"description\": \"Mustard seeds are used for their anti-inflammatory and digestive properties, and the oil is beneficial for skin and hair health.\"},\n",
        "    10: {\"name\": \"Jackfruit\", \"description\": \"Jackfruit seeds are rich in nutrients and antioxidants, used in traditional medicine for digestive disorders and as a natural remedy.\"},\n",
        "    11: {\"name\": \"Jamaica\", \"description\": \"Also known as Hibiscus, it is used for its diuretic properties, promoting heart health, and lowering blood pressure.\"},\n",
        "    12: {\"name\": \"Jamun\", \"description\": \"Jamun fruit and seeds are used in Ayurveda for their anti-diabetic properties and as a natural remedy for digestive issues.\"},\n",
        "    13: {\"name\": \"Jasmine\", \"description\": \"Jasmine flowers are used in aromatherapy and herbal medicine for their calming effects and potential benefits for skin and hair.\"},\n",
        "    14: {\"name\": \"Karanda\", \"description\": \"Also known as Carissa, it is used in traditional medicine for its anti-inflammatory, antiseptic, and digestive properties.\"},\n",
        "    15: {\"name\": \"Lemon\", \"description\": \"Lemon is rich in vitamin C and antioxidants, used for its detoxifying properties, immune support, and as a digestive aid.\"},\n",
        "    16: {\"name\": \"Mango\", \"description\": \"Mango leaves are used in herbal medicine for their anti-inflammatory and antidiabetic properties, promoting overall well-being.\"},\n",
        "    17: {\"name\": \"Mexican Mint\", \"description\": \"Also known as Cuban Oregano, it is used in traditional medicine for its antimicrobial, anti-inflammatory, and digestive benefits.\"},\n",
        "    18: {\"name\": \"Mint\", \"description\": \"Mint leaves are known for their cooling and digestive properties, used to relieve indigestion, nausea, and promote fresh breath.\"},\n",
        "    19: {\"name\": \"Neem\", \"description\": \"Neem leaves and oil have antibacterial, antifungal, and antiviral properties, used for skin conditions, oral health, and immune support.\"},\n",
        "    20: {\"name\": \"Oleander\", \"description\": \"Oleander leaves have toxic properties but are used in traditional medicine for their potential cardiac and cancer-fighting properties (must be used with caution).\"},\n",
        "    21: {\"name\": \"Parijata\", \"description\": \"Also known as Night Jasmine, it is used in Ayurveda for its calming and digestive properties, promoting sleep and well-being.\"},\n",
        "    22: {\"name\": \"Peepal\", \"description\": \"Peepal leaves are used in traditional medicine for their antimicrobial, anti-inflammatory, and digestive benefits.\"},\n",
        "    23: {\"name\": \"Pomegranate\", \"description\": \"Pomegranate fruit and seeds are rich in antioxidants and used for their anti-inflammatory, cardiovascular, and immune-boosting properties.\"},\n",
        "    24: {\"name\": \"Rasna\", \"description\": \"Rasna is used in Ayurveda for its anti-inflammatory, analgesic, and muscle-relaxing properties, often used in joint and muscle pain remedies.\"},\n",
        "    25: {\"name\": \"Rose\", \"description\": \"Rose petals and oil are used in aromatherapy and herbal medicine for their calming, mood-enhancing, and skin-nourishing properties.\"},\n",
        "    26: {\"name\": \"Rose Apple\", \"description\": \"Also known as Jambu, its leaves and fruit are used in traditional medicine for their anti-diabetic and digestive properties.\"},\n",
        "    27: {\"name\": \"Roxburgh Fig\", \"description\": \"Also known as Ficus, its bark and leaves are used in Ayurveda for their anti-inflammatory, digestive, and wound-healing properties.\"},\n",
        "    28: {\"name\": \"Sandalwood\", \"description\": \"Sandalwood oil is used in aromatherapy and traditional medicine for its calming, anti-inflammatory, and skin-soothing effects.\"},\n",
        "    29: {\"name\": \"Tulsi\", \"description\": \"Also known as Holy Basil, it is considered a sacred plant in Ayurveda, used for its antimicrobial, immune-boosting, and stress-relieving properties.\"}\n",
        "}\n",
        "\n",
        "# Streamlit app\n",
        "def main():\n",
        "    st.title(\"Medicinal Plant Identification\")\n",
        "\n",
        "    # File upload\n",
        "    uploaded_file = st.file_uploader(\"Upload an image\", type=[\"jpg\", \"jpeg\", \"png\"])\n",
        "\n",
        "    if uploaded_file is not None:\n",
        "        # Display the uploaded image\n",
        "        st.image(uploaded_file, caption=\"Uploaded Image\", use_column_width=True)\n",
        "\n",
        "        # Preprocess the image for prediction\n",
        "        img = Image.open(uploaded_file)\n",
        "        img = img.resize((64, 64))  # Resize image to match model's expected sizing\n",
        "        img_array = image.img_to_array(img)\n",
        "        img_array = np.expand_dims(img_array, axis=0)\n",
        "        img_array /= 255.0  # Normalize the image\n",
        "\n",
        "        # Make predictions\n",
        "        predictions = model.predict(img_array)\n",
        "        predicted_class_index = np.argmax(predictions)\n",
        "\n",
        "        # Retrieve class information based on predicted class index\n",
        "        predicted_class_info = class_info[predicted_class_index]\n",
        "        predicted_class_name = predicted_class_info[\"name\"]\n",
        "        predicted_class_description = predicted_class_info[\"description\"]\n",
        "\n",
        "        # Display prediction\n",
        "        st.write(f\"Predicted Plant: {predicted_class_name}\")\n",
        "        st.write(f\"Description: {predicted_class_description}\")\n",
        "\n",
        "# Run the app\n",
        "if __name__ == \"__main__\":\n",
        "    # public_url = ngrok.connect(port=8000)\n",
        "    # st.write(f\"Ngrok TUnnel URL:{public_url}\")\n",
        "    main()\n"
      ]
    },
    {
      "cell_type": "code",
      "execution_count": 53,
      "metadata": {
        "id": "j_nCo8YOmJ6s",
        "colab": {
          "base_uri": "https://localhost:8080/"
        },
        "outputId": "074e6cc7-d725-4184-f4ec-e3db50ba20a3"
      },
      "outputs": [
        {
          "output_type": "stream",
          "name": "stdout",
          "text": [
            "\n",
            "Collecting usage statistics. To deactivate, set browser.gatherUsageStats to false.\n",
            "\u001b[0m\n",
            "\u001b[0m\n",
            "\u001b[34m\u001b[1m  You can now view your Streamlit app in your browser.\u001b[0m\n",
            "\u001b[0m\n",
            "\u001b[34m  Network URL: \u001b[0m\u001b[1mhttp://172.28.0.12:8501\u001b[0m\n",
            "\u001b[34m  External URL: \u001b[0m\u001b[1mhttp://35.229.140.141:8501\u001b[0m\n",
            "\u001b[0m\n",
            "\u001b[34m  Stopping...\u001b[0m\n",
            "\u001b[34m  Stopping...\u001b[0m\n"
          ]
        }
      ],
      "source": [
        "!streamlit run /usr/local/lib/python3.10/dist-packages/colab_kernel_launcher.py [ARGUMENTS]\n"
      ]
    },
    {
      "cell_type": "code",
      "execution_count": null,
      "metadata": {
        "id": "yGJPtKUF_8VY"
      },
      "outputs": [],
      "source": []
    },
    {
      "cell_type": "code",
      "execution_count": null,
      "metadata": {
        "id": "W8kAGyqCAIbN"
      },
      "outputs": [],
      "source": []
    }
  ],
  "metadata": {
    "accelerator": "TPU",
    "colab": {
      "gpuType": "V28",
      "provenance": []
    },
    "kernelspec": {
      "display_name": "Python 3",
      "name": "python3"
    },
    "language_info": {
      "name": "python"
    }
  },
  "nbformat": 4,
  "nbformat_minor": 0
}
